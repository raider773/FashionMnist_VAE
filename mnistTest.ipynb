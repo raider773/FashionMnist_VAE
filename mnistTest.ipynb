{
 "cells": [
  {
   "cell_type": "code",
   "execution_count": 2,
   "id": "09706888-a53b-4237-a8ca-6a187d73e52a",
   "metadata": {},
   "outputs": [],
   "source": [
    "from tensorflow.python.framework.ops import disable_eager_execution\n",
    "disable_eager_execution()"
   ]
  },
  {
   "cell_type": "code",
   "execution_count": 3,
   "id": "5805d5ab-9b09-4168-86cd-b4f5b9248444",
   "metadata": {},
   "outputs": [],
   "source": [
    "import numpy as np\n",
    "import tensorflow as tf\n",
    "import matplotlib.pyplot as plt"
   ]
  },
  {
   "cell_type": "code",
   "execution_count": 4,
   "id": "92e6832c-b1da-4c0d-9c7f-3bb995b41855",
   "metadata": {},
   "outputs": [],
   "source": [
    "batch_size = 256\n",
    "img_height = 28\n",
    "img_width = 28\n",
    "latent_space = 3\n",
    "rmse_multiplier = 7000\n",
    "kl_multiplier = 1"
   ]
  },
  {
   "cell_type": "code",
   "execution_count": 5,
   "id": "f7a76603-de80-42d3-9cfd-8a692ccc113e",
   "metadata": {},
   "outputs": [],
   "source": [
    "(x_train, y_train), (x_test, y_test) = tf.keras.datasets.fashion_mnist.load_data()"
   ]
  },
  {
   "cell_type": "code",
   "execution_count": 6,
   "id": "b64d548f-79b1-470e-b944-010299b5ab79",
   "metadata": {},
   "outputs": [],
   "source": [
    "x_train = x_train.astype(\"float32\") / 255\n",
    "x_test = x_test.astype(\"float32\") / 255"
   ]
  },
  {
   "cell_type": "code",
   "execution_count": 7,
   "id": "f9c7232b-16ec-4e70-aabd-d3d272f9a724",
   "metadata": {},
   "outputs": [],
   "source": [
    "x_train = x_train.reshape(x_train.shape[0], img_height, img_width, 1)\n",
    "x_test = x_test.reshape(x_test.shape[0], img_height, img_width, 1)"
   ]
  },
  {
   "cell_type": "code",
   "execution_count": 8,
   "id": "4bbc861b-d04f-403e-a6c0-2e0d9000da45",
   "metadata": {},
   "outputs": [],
   "source": [
    "from tensorflow.keras.layers import BatchNormalization,Conv2D,Conv2DTranspose,Dense,Input,Activation,Flatten,Lambda,Reshape,Lambda \n",
    "from tensorflow.keras.models import Model\n",
    "import tensorflow.keras.backend as k\n",
    "from tensorflow.keras.callbacks import ModelCheckpoint, LearningRateScheduler, EarlyStopping\n",
    "from tensorflow.keras.optimizers.legacy import Adam\n",
    "from tensorflow.keras.losses import CategoricalCrossentropy"
   ]
  },
  {
   "cell_type": "code",
   "execution_count": 9,
   "id": "a42f0dc2-3015-474d-b9b1-9099012ac80c",
   "metadata": {},
   "outputs": [],
   "source": [
    "# callbacks \n",
    "checkpoint_file = \"Mnist.h5\"\n",
    "\n",
    "checkpoint = ModelCheckpoint(checkpoint_file, monitor='val_loss', verbose=0, save_best_only=True,\n",
    "                             save_weights_only=True, mode='auto')\n",
    "\n",
    "early = EarlyStopping(monitor='val_loss', min_delta=0, patience=5, verbose=0, mode='auto')"
   ]
  },
  {
   "cell_type": "code",
   "execution_count": 10,
   "id": "bf41e4c2-dafd-4355-a91b-329a1ab461b8",
   "metadata": {},
   "outputs": [],
   "source": [
    "import tensorflow as tf\n",
    "def scheduler(epoch, lr):\n",
    "    if epoch % 10 == 0:\n",
    "        return lr * 0.1   \n",
    "    return lr\n",
    "\n",
    "callback_lr_decay = tf.keras.callbacks.LearningRateScheduler(scheduler)"
   ]
  },
  {
   "cell_type": "code",
   "execution_count": 10,
   "id": "5306dbcc-7023-42bb-a80e-2b93897473d6",
   "metadata": {},
   "outputs": [],
   "source": [
    "class VariationalAutoEncoder():\n",
    "    def __init__(self):\n",
    "        self._build()\n",
    "        \n",
    "    def _build(self):\n",
    "        \n",
    "        #Encoder\n",
    "        \n",
    "        def sampling(args):\n",
    "            mu,log_var = args\n",
    "            epsilon = k.random_normal(shape = k.shape(mu),mean = 0,stddev = 1)\n",
    "            return mu + k.exp(log_var/2) * epsilon\n",
    "        \n",
    "        image_input = Input(shape = (img_height,img_width,1), name = \"vae_input\")\n",
    "\n",
    "        x_enc = Conv2D(784,(3,3),(2,2),padding = \"same\", name = \"conv_16_31encoder\")(image_input)\n",
    "        x_enc = BatchNormalization(name = \"batch_norm_16321_encoder\")(x_enc)\n",
    "        x_enc = Activation(\"relu\",name = \"activation_16412_encoder\")(x_enc)\n",
    "\n",
    "        x_enc = Conv2D(256,(3,3),(2,2),padding = \"same\", name = \"conv4124_8_encoder\")(x_enc)\n",
    "        x_enc = BatchNormalization(name = \"batch_norm_814124encoder\")(x_enc)\n",
    "        x_enc = Activation(\"relu\",name = \"activation_8_e14142ncoder\")(x_enc)\n",
    "        \n",
    "        x_enc = Conv2D(32,(3,3),(1,1),padding = \"same\", name = \"conv_16_4214encoder\")(image_input)\n",
    "        x_enc = BatchNormalization(name = \"batch_norm_16_e1414ncoder\")(x_enc)\n",
    "        x_enc = Activation(\"relu\",name = \"activation_16_12414encoder\")(x_enc)\n",
    "        \n",
    "        x_enc = Conv2D(4,(3,3),(1,1),padding = \"same\", name = \"conv_1421416_encoder\")(image_input)\n",
    "        x_enc = BatchNormalization(name = \"batch_norm_16_en14124coder\")(x_enc)\n",
    "        x_enc = Activation(\"relu\",name = \"activati132on_16_enc1414oder\")(x_enc)\n",
    "\n",
    "        x_enc = Flatten(name = \"flatten_encoder\")(x_enc)\n",
    "        self.mu = Dense(latent_space, activation = \"linear\",name = \"mu\")(x_enc)\n",
    "        self.log_var = Dense(latent_space, activation = \"linear\", name = \"log_var\")(x_enc)\n",
    "\n",
    "        encoder_output = Lambda(sampling, name = \"encoder_output\")([self.mu,self.log_var])        \n",
    "\n",
    "        self.encoder = Model(inputs = [image_input], outputs = [encoder_output])\n",
    "        \n",
    "        #Decoder\n",
    "        \n",
    "        latent_space_input = Input(shape=(latent_space,), name = \"decoder_input\")\n",
    "\n",
    "        x_dec = Dense(3136, activation = \"linear\",name = \"decoder_dense\")(latent_space_input)\n",
    "        x_dec = Reshape(target_shape = (7,7,64)) (x_dec)\n",
    "\n",
    "        x_dec = Conv2DTranspose(784,(3,3),(1,1),padding = \"same\", name = \"conv_13123213_decoder\")(x_dec)\n",
    "        x_dec = BatchNormalization(name = \"batch_norm13213_164_decoder\")(x_dec)\n",
    "        x_dec = Activation(\"relu\",name = \"activation_31231664_decoder\")(x_dec)\n",
    "        \n",
    "        x_dec = Conv2DTranspose(256,(3,3),(1,1),padding = \"same\", name = \"conv_1k_3123decoder\")(x_dec)\n",
    "        x_dec = BatchNormalization(name = \"batch_norm23123_1k_decoder\")(x_dec)\n",
    "        x_dec = Activation(\"relu\",name = \"activation_131231y6_decoder\")(x_dec)\n",
    "                       \n",
    "        x_dec = Conv2DTranspose(32,(3,3),(2,2),padding = \"same\", name = \"conv_13_31decoder\")(x_dec)\n",
    "        x_dec = BatchNormalization(name = \"batch_nor31231m_164_decoder\")(x_dec)\n",
    "        x_dec = Activation(\"relu\",name = \"activation_12311664_decoder\")(x_dec)\n",
    "                       \n",
    "        \n",
    "        x_dec = Conv2DTranspose(4,(3,3),(2,2),padding = \"same\", name = \"conv_13_de231coder\")(x_dec)\n",
    "        x_dec = BatchNormalization(name = \"batch_nor13213m_164_decoder\")(x_dec)\n",
    "        x_dec = Activation(\"relu\",name = \"activation_13213664_decoder\")(x_dec)\n",
    "\n",
    "        x_dec = Conv2DTranspose(1,(3,3),(1,1),padding = \"same\", name = \"conv_33123_decoder\")(x_dec)\n",
    "        x_dec = BatchNormalization(name = \"batch_norm_3_decoder\")(x_dec)\n",
    "        decoder_output = Activation(\"sigmoid\",name = \"activation_3_decoder\")(x_dec)       \n",
    " \n",
    "        self.decoder = Model(inputs = [latent_space_input], outputs = [decoder_output])\n",
    "        \n",
    "        \n",
    "        #Variational AutoEncoder\n",
    "        \n",
    "        model_input = image_input\n",
    "        model_output = self.decoder(encoder_output)\n",
    "\n",
    "        self.full_model = Model(model_input, model_output)\n",
    "        \n",
    "    def custom_compile(self, learning_rate, rmse_multiplier):\n",
    "        self.learning_rate = learning_rate\n",
    "       \n",
    "        def vae_r_loss(y_true, y_pred):\n",
    "            r_loss = k.mean(k.square(y_true - y_pred), axis = [1])\n",
    "            return rmse_multiplier * r_loss\n",
    "\n",
    "        def vae_kl_loss(y_true, y_pred):\n",
    "            kl_loss =  - 0.5 * k.sum(1 + self.log_var - k.square(self.mu) - k.exp(self.log_var), axis = 1)\n",
    "            return kl_loss * kl_multiplier \n",
    "\n",
    "        def vae_loss(y_true, y_pred):\n",
    "            reconstruction_loss = vae_r_loss(y_true, y_pred)\n",
    "            kl_loss = vae_kl_loss(y_true, y_pred)\n",
    "            return  reconstruction_loss + kl_loss \n",
    "\n",
    "        optimizer = Adam(learning_rate=learning_rate)\n",
    "        self.full_model.compile(optimizer=optimizer, loss = vae_loss,  metrics = [vae_r_loss,vae_kl_loss]) \n",
    "       "
   ]
  },
  {
   "cell_type": "code",
   "execution_count": 11,
   "id": "da78af9f-8f13-4a93-bfb1-1192c2ecde50",
   "metadata": {},
   "outputs": [
    {
     "name": "stdout",
     "output_type": "stream",
     "text": [
      "WARNING:tensorflow:From C:\\Users\\gonzalo\\.conda\\envs\\generative_pokemon\\lib\\site-packages\\keras\\layers\\normalization\\batch_normalization.py:562: _colocate_with (from tensorflow.python.framework.ops) is deprecated and will be removed in a future version.\n",
      "Instructions for updating:\n",
      "Colocations handled automatically by placer.\n"
     ]
    }
   ],
   "source": [
    "estimator = VariationalAutoEncoder()"
   ]
  },
  {
   "cell_type": "code",
   "execution_count": 12,
   "id": "cd689d35-8951-45e3-8671-ff1b90ea24ec",
   "metadata": {},
   "outputs": [],
   "source": [
    "estimator.custom_compile(learning_rate = 0.001, rmse_multiplier = rmse_multiplier)"
   ]
  },
  {
   "cell_type": "code",
   "execution_count": 13,
   "id": "4b014997-40a3-4bbf-b00b-4f53a39aab83",
   "metadata": {
    "tags": []
   },
   "outputs": [
    {
     "name": "stdout",
     "output_type": "stream",
     "text": [
      "Train on 60000 samples, validate on 10000 samples\n",
      "Epoch 1/100\n",
      "59968/60000 [============================>.] - ETA: 0s - loss: 517.8396 - vae_r_loss: 505.4763 - vae_kl_loss: 12.3629"
     ]
    },
    {
     "name": "stderr",
     "output_type": "stream",
     "text": [
      "C:\\Users\\gonzalo\\.conda\\envs\\generative_pokemon\\lib\\site-packages\\keras\\engine\\training_v1.py:2332: UserWarning: `Model.state_updates` will be removed in a future version. This property should not be used in TensorFlow 2.0, as `updates` are applied automatically.\n",
      "  updates = self.state_updates\n"
     ]
    },
    {
     "name": "stdout",
     "output_type": "stream",
     "text": [
      "60000/60000 [==============================] - 50s 828us/sample - loss: 517.8323 - vae_r_loss: 505.4701 - vae_kl_loss: 12.3618 - val_loss: 440.8633 - val_vae_r_loss: 429.7617 - val_vae_kl_loss: 11.1015 - lr: 1.0000e-04\n",
      "Epoch 2/100\n",
      "60000/60000 [==============================] - 47s 787us/sample - loss: 379.7443 - vae_r_loss: 369.0792 - vae_kl_loss: 10.6652 - val_loss: 334.5122 - val_vae_r_loss: 324.1799 - val_vae_kl_loss: 10.3323 - lr: 1.0000e-04\n",
      "Epoch 3/100\n",
      "60000/60000 [==============================] - 48s 794us/sample - loss: 309.3577 - vae_r_loss: 299.0312 - vae_kl_loss: 10.3267 - val_loss: 279.6991 - val_vae_r_loss: 269.7398 - val_vae_kl_loss: 9.9592 - lr: 1.0000e-04\n",
      "Epoch 4/100\n",
      "60000/60000 [==============================] - 48s 801us/sample - loss: 265.1128 - vae_r_loss: 254.8667 - vae_kl_loss: 10.2460 - val_loss: 245.7666 - val_vae_r_loss: 235.7107 - val_vae_kl_loss: 10.0559 - lr: 1.0000e-04\n",
      "Epoch 5/100\n",
      "60000/60000 [==============================] - 48s 806us/sample - loss: 236.4552 - vae_r_loss: 226.2409 - vae_kl_loss: 10.2143 - val_loss: 221.9162 - val_vae_r_loss: 211.8263 - val_vae_kl_loss: 10.0900 - lr: 1.0000e-04\n",
      "Epoch 6/100\n",
      "60000/60000 [==============================] - 48s 807us/sample - loss: 218.0419 - vae_r_loss: 207.8466 - vae_kl_loss: 10.1952 - val_loss: 207.2928 - val_vae_r_loss: 197.3024 - val_vae_kl_loss: 9.9904 - lr: 1.0000e-04\n",
      "Epoch 7/100\n",
      "60000/60000 [==============================] - 49s 819us/sample - loss: 205.7994 - vae_r_loss: 195.6360 - vae_kl_loss: 10.1633 - val_loss: 203.1182 - val_vae_r_loss: 193.0611 - val_vae_kl_loss: 10.0572 - lr: 1.0000e-04\n",
      "Epoch 8/100\n",
      "60000/60000 [==============================] - 48s 804us/sample - loss: 197.7245 - vae_r_loss: 187.5517 - vae_kl_loss: 10.1728 - val_loss: 192.1091 - val_vae_r_loss: 181.8429 - val_vae_kl_loss: 10.2663 - lr: 1.0000e-04\n",
      "Epoch 9/100\n",
      "60000/60000 [==============================] - 48s 801us/sample - loss: 192.7975 - vae_r_loss: 182.6317 - vae_kl_loss: 10.1658 - val_loss: 188.8220 - val_vae_r_loss: 178.5059 - val_vae_kl_loss: 10.3161 - lr: 1.0000e-04\n",
      "Epoch 10/100\n",
      "60000/60000 [==============================] - 48s 805us/sample - loss: 189.8063 - vae_r_loss: 179.6517 - vae_kl_loss: 10.1545 - val_loss: 188.3931 - val_vae_r_loss: 178.3446 - val_vae_kl_loss: 10.0485 - lr: 1.0000e-04\n",
      "Epoch 11/100\n",
      "60000/60000 [==============================] - 48s 807us/sample - loss: 184.1877 - vae_r_loss: 174.0585 - vae_kl_loss: 10.1291 - val_loss: 182.7495 - val_vae_r_loss: 172.5938 - val_vae_kl_loss: 10.1556 - lr: 1.0000e-05\n",
      "Epoch 12/100\n",
      "60000/60000 [==============================] - 48s 802us/sample - loss: 183.5778 - vae_r_loss: 173.4172 - vae_kl_loss: 10.1605 - val_loss: 183.0014 - val_vae_r_loss: 172.8148 - val_vae_kl_loss: 10.1866 - lr: 1.0000e-05\n",
      "Epoch 13/100\n",
      "60000/60000 [==============================] - 48s 805us/sample - loss: 182.9919 - vae_r_loss: 172.8576 - vae_kl_loss: 10.1343 - val_loss: 182.6447 - val_vae_r_loss: 172.5094 - val_vae_kl_loss: 10.1354 - lr: 1.0000e-05\n",
      "Epoch 14/100\n",
      "60000/60000 [==============================] - 48s 802us/sample - loss: 182.8236 - vae_r_loss: 172.6836 - vae_kl_loss: 10.1402 - val_loss: 182.0301 - val_vae_r_loss: 171.9054 - val_vae_kl_loss: 10.1247 - lr: 1.0000e-05\n",
      "Epoch 15/100\n",
      "60000/60000 [==============================] - 48s 804us/sample - loss: 182.6295 - vae_r_loss: 172.5025 - vae_kl_loss: 10.1270 - val_loss: 181.9546 - val_vae_r_loss: 171.8730 - val_vae_kl_loss: 10.0816 - lr: 1.0000e-05\n",
      "Epoch 16/100\n",
      "60000/60000 [==============================] - 48s 807us/sample - loss: 182.2109 - vae_r_loss: 172.0851 - vae_kl_loss: 10.1259 - val_loss: 181.7950 - val_vae_r_loss: 171.6714 - val_vae_kl_loss: 10.1236 - lr: 1.0000e-05\n",
      "Epoch 17/100\n",
      "60000/60000 [==============================] - 48s 806us/sample - loss: 181.9854 - vae_r_loss: 171.8912 - vae_kl_loss: 10.0944 - val_loss: 181.7233 - val_vae_r_loss: 171.5600 - val_vae_kl_loss: 10.1632 - lr: 1.0000e-05\n",
      "Epoch 18/100\n",
      "60000/60000 [==============================] - 48s 805us/sample - loss: 181.8918 - vae_r_loss: 171.7478 - vae_kl_loss: 10.1440 - val_loss: 181.2023 - val_vae_r_loss: 171.1212 - val_vae_kl_loss: 10.0812 - lr: 1.0000e-05\n",
      "Epoch 19/100\n",
      "60000/60000 [==============================] - 48s 806us/sample - loss: 181.5703 - vae_r_loss: 171.4653 - vae_kl_loss: 10.1050 - val_loss: 181.5525 - val_vae_r_loss: 171.4322 - val_vae_kl_loss: 10.1203 - lr: 1.0000e-05\n",
      "Epoch 20/100\n",
      "60000/60000 [==============================] - 48s 803us/sample - loss: 181.3146 - vae_r_loss: 171.1875 - vae_kl_loss: 10.1270 - val_loss: 181.2435 - val_vae_r_loss: 171.1619 - val_vae_kl_loss: 10.0817 - lr: 1.0000e-05\n",
      "Epoch 21/100\n",
      "60000/60000 [==============================] - 48s 804us/sample - loss: 180.8485 - vae_r_loss: 170.7438 - vae_kl_loss: 10.1047 - val_loss: 180.6396 - val_vae_r_loss: 170.5705 - val_vae_kl_loss: 10.0691 - lr: 1.0000e-06\n",
      "Epoch 22/100\n",
      "60000/60000 [==============================] - 48s 806us/sample - loss: 180.5192 - vae_r_loss: 170.4068 - vae_kl_loss: 10.1124 - val_loss: 180.6818 - val_vae_r_loss: 170.5518 - val_vae_kl_loss: 10.1299 - lr: 1.0000e-06\n",
      "Epoch 23/100\n",
      "60000/60000 [==============================] - 48s 808us/sample - loss: 180.5574 - vae_r_loss: 170.4371 - vae_kl_loss: 10.1201 - val_loss: 180.8369 - val_vae_r_loss: 170.7432 - val_vae_kl_loss: 10.0938 - lr: 1.0000e-06\n",
      "Epoch 24/100\n",
      "60000/60000 [==============================] - 48s 807us/sample - loss: 180.6275 - vae_r_loss: 170.4941 - vae_kl_loss: 10.1334 - val_loss: 180.5849 - val_vae_r_loss: 170.4265 - val_vae_kl_loss: 10.1584 - lr: 1.0000e-06\n",
      "Epoch 25/100\n",
      "60000/60000 [==============================] - 49s 809us/sample - loss: 180.7113 - vae_r_loss: 170.5802 - vae_kl_loss: 10.1310 - val_loss: 180.6198 - val_vae_r_loss: 170.4776 - val_vae_kl_loss: 10.1422 - lr: 1.0000e-06\n",
      "Epoch 26/100\n",
      "60000/60000 [==============================] - 49s 811us/sample - loss: 180.5991 - vae_r_loss: 170.4541 - vae_kl_loss: 10.1451 - val_loss: 180.5734 - val_vae_r_loss: 170.4674 - val_vae_kl_loss: 10.1058 - lr: 1.0000e-06\n",
      "Epoch 27/100\n",
      "60000/60000 [==============================] - 48s 808us/sample - loss: 180.3974 - vae_r_loss: 170.2707 - vae_kl_loss: 10.1267 - val_loss: 180.5832 - val_vae_r_loss: 170.4841 - val_vae_kl_loss: 10.0991 - lr: 1.0000e-06\n",
      "Epoch 28/100\n",
      "60000/60000 [==============================] - 48s 806us/sample - loss: 180.5320 - vae_r_loss: 170.4201 - vae_kl_loss: 10.1118 - val_loss: 180.7430 - val_vae_r_loss: 170.6265 - val_vae_kl_loss: 10.1164 - lr: 1.0000e-06\n",
      "Epoch 29/100\n",
      "60000/60000 [==============================] - 49s 809us/sample - loss: 180.5565 - vae_r_loss: 170.4323 - vae_kl_loss: 10.1243 - val_loss: 180.7578 - val_vae_r_loss: 170.6316 - val_vae_kl_loss: 10.1263 - lr: 1.0000e-06\n",
      "Epoch 30/100\n",
      "60000/60000 [==============================] - 49s 809us/sample - loss: 180.5318 - vae_r_loss: 170.4201 - vae_kl_loss: 10.1118 - val_loss: 180.5421 - val_vae_r_loss: 170.4430 - val_vae_kl_loss: 10.0991 - lr: 1.0000e-06\n",
      "Epoch 31/100\n",
      "60000/60000 [==============================] - 48s 808us/sample - loss: 180.3267 - vae_r_loss: 170.2135 - vae_kl_loss: 10.1130 - val_loss: 180.6110 - val_vae_r_loss: 170.5176 - val_vae_kl_loss: 10.0935 - lr: 1.0000e-07\n",
      "Epoch 32/100\n",
      "60000/60000 [==============================] - 49s 812us/sample - loss: 180.3788 - vae_r_loss: 170.2618 - vae_kl_loss: 10.1170 - val_loss: 180.6426 - val_vae_r_loss: 170.5310 - val_vae_kl_loss: 10.1117 - lr: 1.0000e-07\n",
      "Epoch 33/100\n",
      "60000/60000 [==============================] - 49s 809us/sample - loss: 180.2296 - vae_r_loss: 170.1118 - vae_kl_loss: 10.1178 - val_loss: 180.5348 - val_vae_r_loss: 170.4527 - val_vae_kl_loss: 10.0822 - lr: 1.0000e-07\n",
      "Epoch 34/100\n",
      "60000/60000 [==============================] - 49s 813us/sample - loss: 180.3178 - vae_r_loss: 170.1993 - vae_kl_loss: 10.1185 - val_loss: 180.5241 - val_vae_r_loss: 170.3926 - val_vae_kl_loss: 10.1315 - lr: 1.0000e-07\n",
      "Epoch 35/100\n",
      "60000/60000 [==============================] - 49s 812us/sample - loss: 180.1989 - vae_r_loss: 170.0798 - vae_kl_loss: 10.1192 - val_loss: 180.4994 - val_vae_r_loss: 170.3941 - val_vae_kl_loss: 10.1052 - lr: 1.0000e-07\n",
      "Epoch 36/100\n",
      "60000/60000 [==============================] - 48s 807us/sample - loss: 180.1089 - vae_r_loss: 169.9896 - vae_kl_loss: 10.1193 - val_loss: 180.5170 - val_vae_r_loss: 170.4109 - val_vae_kl_loss: 10.1061 - lr: 1.0000e-07\n",
      "Epoch 37/100\n",
      "60000/60000 [==============================] - 49s 810us/sample - loss: 180.4286 - vae_r_loss: 170.3062 - vae_kl_loss: 10.1222 - val_loss: 180.7255 - val_vae_r_loss: 170.6270 - val_vae_kl_loss: 10.0985 - lr: 1.0000e-07\n",
      "Epoch 38/100\n",
      "60000/60000 [==============================] - 48s 806us/sample - loss: 180.1698 - vae_r_loss: 170.0478 - vae_kl_loss: 10.1220 - val_loss: 180.6748 - val_vae_r_loss: 170.5977 - val_vae_kl_loss: 10.0772 - lr: 1.0000e-07\n",
      "Epoch 39/100\n",
      "60000/60000 [==============================] - 49s 816us/sample - loss: 180.2891 - vae_r_loss: 170.1685 - vae_kl_loss: 10.1206 - val_loss: 180.4028 - val_vae_r_loss: 170.2722 - val_vae_kl_loss: 10.1306 - lr: 1.0000e-07\n",
      "Epoch 40/100\n",
      "60000/60000 [==============================] - 49s 812us/sample - loss: 180.3774 - vae_r_loss: 170.2560 - vae_kl_loss: 10.1213 - val_loss: 180.4700 - val_vae_r_loss: 170.3723 - val_vae_kl_loss: 10.0978 - lr: 1.0000e-07\n",
      "Epoch 41/100\n",
      "60000/60000 [==============================] - 48s 806us/sample - loss: 180.1744 - vae_r_loss: 170.0525 - vae_kl_loss: 10.1220 - val_loss: 180.3617 - val_vae_r_loss: 170.1883 - val_vae_kl_loss: 10.1735 - lr: 1.0000e-08\n",
      "Epoch 42/100\n",
      "60000/60000 [==============================] - 49s 812us/sample - loss: 180.3817 - vae_r_loss: 170.2594 - vae_kl_loss: 10.1222 - val_loss: 180.6125 - val_vae_r_loss: 170.5207 - val_vae_kl_loss: 10.0918 - lr: 1.0000e-08\n",
      "Epoch 43/100\n",
      "60000/60000 [==============================] - 49s 811us/sample - loss: 180.2275 - vae_r_loss: 170.1048 - vae_kl_loss: 10.1227 - val_loss: 180.7789 - val_vae_r_loss: 170.6634 - val_vae_kl_loss: 10.1156 - lr: 1.0000e-08\n",
      "Epoch 44/100\n",
      "60000/60000 [==============================] - 49s 810us/sample - loss: 180.1335 - vae_r_loss: 170.0118 - vae_kl_loss: 10.1217 - val_loss: 180.5200 - val_vae_r_loss: 170.3827 - val_vae_kl_loss: 10.1373 - lr: 1.0000e-08\n",
      "Epoch 45/100\n",
      "60000/60000 [==============================] - 49s 812us/sample - loss: 180.3098 - vae_r_loss: 170.1874 - vae_kl_loss: 10.1224 - val_loss: 180.6067 - val_vae_r_loss: 170.5181 - val_vae_kl_loss: 10.0885 - lr: 1.0000e-08\n",
      "Epoch 46/100\n",
      "60000/60000 [==============================] - 49s 809us/sample - loss: 180.2423 - vae_r_loss: 170.1204 - vae_kl_loss: 10.1219 - val_loss: 180.7173 - val_vae_r_loss: 170.5863 - val_vae_kl_loss: 10.1311 - lr: 1.0000e-08\n"
     ]
    },
    {
     "data": {
      "text/plain": [
       "<keras.callbacks.History at 0x278e9ac3a00>"
      ]
     },
     "execution_count": 13,
     "metadata": {},
     "output_type": "execute_result"
    }
   ],
   "source": [
    "estimator.full_model.fit(x_train,x_train,validation_data = (x_test,x_test), epochs = 100, callbacks = [checkpoint,early,callback_lr_decay])"
   ]
  },
  {
   "cell_type": "code",
   "execution_count": 12,
   "id": "a569e946-5b9c-4356-9b00-1a77d9910796",
   "metadata": {},
   "outputs": [],
   "source": [
    "import random\n",
    "num = random.randint(0,9999)"
   ]
  },
  {
   "cell_type": "code",
   "execution_count": 97,
   "id": "70579ceb-e0b3-4078-bbef-fb7f53d3b322",
   "metadata": {},
   "outputs": [],
   "source": [
    "latent = estimator.encoder.predict(np.expand_dims(x_test[num],axis = 0))"
   ]
  },
  {
   "cell_type": "code",
   "execution_count": 98,
   "id": "a59256fc-3e5c-4d55-8afc-bd119e16934e",
   "metadata": {},
   "outputs": [],
   "source": [
    "reconstruction = estimator.decoder.predict(latent)"
   ]
  },
  {
   "cell_type": "code",
   "execution_count": 16,
   "id": "835c5c4a-0876-4cc8-b94b-c2ae643ee1a6",
   "metadata": {},
   "outputs": [
    {
     "data": {
      "text/plain": [
       "<matplotlib.image.AxesImage at 0x27f9f4f04c0>"
      ]
     },
     "execution_count": 16,
     "metadata": {},
     "output_type": "execute_result"
    },
    {
     "data": {
      "image/png": "[encoded data removed]",
      "text/plain": [
       "<Figure size 640x480 with 1 Axes>"
      ]
     },
     "metadata": {},
     "output_type": "display_data"
    }
   ],
   "source": [
    "plt.imshow(x_test[num],cmap = \"gray\")"
   ]
  },
  {
   "cell_type": "code",
   "execution_count": 100,
   "id": "2d678d62-4d59-4ed3-9d00-c0ddfc3fd483",
   "metadata": {},
   "outputs": [
    {
     "data": {
      "text/plain": [
       "<matplotlib.image.AxesImage at 0x27b3a294fd0>"
      ]
     },
     "execution_count": 100,
     "metadata": {},
     "output_type": "execute_result"
    },
    {
     "data": {
      "image/png": "[encoded data removed]",
      "text/plain": [
       "<Figure size 640x480 with 1 Axes>"
      ]
     },
     "metadata": {},
     "output_type": "display_data"
    }
   ],
   "source": [
    "plt.imshow(reconstruction[0],cmap = \"gray\")"
   ]
  },
  {
   "cell_type": "code",
   "execution_count": 69,
   "id": "66929f8e-cce5-4f28-8890-6cdf5f0ad27e",
   "metadata": {},
   "outputs": [],
   "source": [
    "generation = estimator.decoder.predict(np.random.normal(size = (1,latent_space)))"
   ]
  },
  {
   "cell_type": "code",
   "execution_count": 70,
   "id": "92b219c8-5ad8-4322-8562-ec7384dab3d3",
   "metadata": {},
   "outputs": [
    {
     "data": {
      "text/plain": [
       "<matplotlib.image.AxesImage at 0x27b10154040>"
      ]
     },
     "execution_count": 70,
     "metadata": {},
     "output_type": "execute_result"
    },
    {
     "data": {
      "image/png": "[encoded data removed]",
      "text/plain": [
       "<Figure size 640x480 with 1 Axes>"
      ]
     },
     "metadata": {},
     "output_type": "display_data"
    }
   ],
   "source": [
    "plt.imshow(generation[0],cmap = \"gray\")"
   ]
  },
  {
   "cell_type": "code",
   "execution_count": 21,
   "id": "5757c2cb-71c1-48e6-a779-af1b59044992",
   "metadata": {},
   "outputs": [],
   "source": [
    "import pandas as pd"
   ]
  },
  {
   "cell_type": "code",
   "execution_count": 22,
   "id": "9a84e630-74c7-4992-a48a-a95c853f185e",
   "metadata": {},
   "outputs": [],
   "source": [
    "complete_latent_space = estimator.encoder.predict(x_test)"
   ]
  },
  {
   "cell_type": "code",
   "execution_count": 23,
   "id": "4f7bb2ff-e2c1-43a2-b2d6-d51f53b3d881",
   "metadata": {},
   "outputs": [],
   "source": [
    "graphDf = pd.DataFrame(data = complete_latent_space\n",
    "             , columns = ['z1', 'z2','z3'])\n",
    "graphDf = pd.concat([graphDf, pd.DataFrame(y_test)], axis = 1)"
   ]
  },
  {
   "cell_type": "code",
   "execution_count": 24,
   "id": "234f6394-e46f-4082-959a-650b03935c2b",
   "metadata": {},
   "outputs": [],
   "source": [
    "graphDf.rename(columns = {0 : \"class\"},inplace = True)"
   ]
  },
  {
   "cell_type": "code",
   "execution_count": 25,
   "id": "afc1a301-13fe-4503-8377-663244fba1d2",
   "metadata": {},
   "outputs": [],
   "source": [
    "class_dict = {\n",
    "0:\"T-shirt/top\",\n",
    "1:\"Trouser\",\n",
    "2:\"Pullover\",\n",
    "3:\"Dress\",\n",
    "4:\"Coat\",\n",
    "5:\"Sandal\",\n",
    "6:\"Shirt\",\n",
    "7:\"Sneaker\",\n",
    "8:\"Bag\",\n",
    "9:\"Ankle boot\",\n",
    "}"
   ]
  },
  {
   "cell_type": "code",
   "execution_count": 26,
   "id": "0878d5d9-fab2-4709-bef6-11da5f2bdc8f",
   "metadata": {},
   "outputs": [],
   "source": [
    "graphDf[\"class\"].replace(to_replace = class_dict, inplace = True)"
   ]
  },
  {
   "cell_type": "code",
   "execution_count": 27,
   "id": "cbc195db-5a3f-406b-b019-5c7d98ac78f0",
   "metadata": {},
   "outputs": [],
   "source": [
    "import plotly.express as px\n",
    "df = graphDf\n",
    "fig = px.scatter_3d(df, x='z1', y='z2', z='z3',\n",
    "              color=\"class\")\n",
    "fig.write_html('LatentSpace.html', auto_open=True)"
   ]
  },
  {
   "cell_type": "code",
   "execution_count": 28,
   "id": "2bc2cc2c-3669-4bf2-8528-6f7902813b33",
   "metadata": {},
   "outputs": [],
   "source": [
    "adasda = np.expand_dims(np.array([-0.3,-2,-0.5]),axis = 0)"
   ]
  },
  {
   "cell_type": "code",
   "execution_count": 29,
   "id": "7f33755d-b474-4d1d-8658-7baacece7f6d",
   "metadata": {},
   "outputs": [],
   "source": [
    "generation = estimator.decoder.predict(adasda)"
   ]
  },
  {
   "cell_type": "code",
   "execution_count": 30,
   "id": "ec8cae32-84d7-42c4-96e6-1b8bc65c4cf4",
   "metadata": {},
   "outputs": [
    {
     "data": {
      "text/plain": [
       "<matplotlib.image.AxesImage at 0x27a8561d9a0>"
      ]
     },
     "execution_count": 30,
     "metadata": {},
     "output_type": "execute_result"
    },
    {
     "data": {
      "image/png": "[encoded data removed]",
      "text/plain": [
       "<Figure size 640x480 with 1 Axes>"
      ]
     },
     "metadata": {},
     "output_type": "display_data"
    }
   ],
   "source": [
    "plt.imshow(generation[0],cmap = \"gray\")"
   ]
  },
  {
   "cell_type": "code",
   "execution_count": null,
   "id": "6024dc8e-c679-47f4-98a9-79298abf25b4",
   "metadata": {},
   "outputs": [],
   "source": []
  }
 ],
 "metadata": {
  "kernelspec": {
   "display_name": "TensorFlowGPU",
   "language": "python",
   "name": "generative_pokemon"
  },
  "language_info": {
   "codemirror_mode": {
    "name": "ipython",
    "version": 3
   },
   "file_extension": ".py",
   "mimetype": "text/x-python",
   "name": "python",
   "nbconvert_exporter": "python",
   "pygments_lexer": "ipython3",
   "version": "3.8.0"
  }
 },
 "nbformat": 4,
 "nbformat_minor": 5
}
