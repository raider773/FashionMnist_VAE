{
 "cells": [
  {
   "cell_type": "code",
   "execution_count": null,
   "id": "24907539-06d9-4803-9dae-c06e3b4a91a8",
   "metadata": {},
   "outputs": [],
   "source": [
    "from tensorflow.python.framework.ops import disable_eager_execution\n",
    "disable_eager_execution()"
   ]
  },
  {
   "cell_type": "code",
   "execution_count": null,
   "id": "2ab476e5-c4d4-4ee5-b4b6-8caeabcbf562",
   "metadata": {},
   "outputs": [],
   "source": [
    "import numpy as np\n",
    "import pandas as pd\n",
    "import tensorflow as tf\n",
    "import matplotlib.pyplot as plt"
   ]
  },
  {
   "cell_type": "code",
   "execution_count": null,
   "id": "ad5b04f4-055f-4d91-8085-ab6378b345da",
   "metadata": {},
   "outputs": [],
   "source": [
    "from tensorflow.keras.optimizers.legacy import Adam"
   ]
  },
  {
   "cell_type": "code",
   "execution_count": null,
   "id": "eb921ef2-3b73-4631-88ec-679915329ba4",
   "metadata": {},
   "outputs": [],
   "source": [
    "from conf.settings import Settings\n",
    "from estimator.estimatorUtils import callbacks,plot_latent_space\n",
    "from estimator.VAE import VariationalAutoEncoder\n",
    "from utils.utils import show_pictures,create_folder,process_data,show_reconstructed"
   ]
  },
  {
   "cell_type": "code",
   "execution_count": null,
   "id": "5e2e12b6-0b53-440a-9921-bf7553cc353d",
   "metadata": {},
   "outputs": [],
   "source": [
    "settings = Settings()"
   ]
  },
  {
   "cell_type": "code",
   "execution_count": null,
   "id": "2e7dff51-d732-43db-a1d9-133e40884e04",
   "metadata": {},
   "outputs": [],
   "source": [
    "img_height = settings.img_height\n",
    "img_width = settings.img_width\n",
    "\n",
    "batch_size = settings.batch_size\n",
    "epochs = settings.epochs\n",
    "learning_rate = settings.learning_rate\n",
    "\n",
    "metrics_folder = settings.metrics_folder\n",
    "model_folder = settings.model_folder\n",
    "\n",
    "rmse_multiplier = settings.rmse_multiplier\n",
    "latent_space = settings.latent_space"
   ]
  },
  {
   "cell_type": "code",
   "execution_count": null,
   "id": "f56a35df-2c7e-4f39-a52c-6b63111f4ebf",
   "metadata": {},
   "outputs": [],
   "source": [
    "(x_train, y_train), (x_test, y_test) = tf.keras.datasets.fashion_mnist.load_data()"
   ]
  },
  {
   "cell_type": "code",
   "execution_count": null,
   "id": "319f4c4d-1b57-4cef-8c92-36214bed195f",
   "metadata": {},
   "outputs": [],
   "source": [
    "show_pictures(x_train,y_train)"
   ]
  },
  {
   "cell_type": "code",
   "execution_count": null,
   "id": "dcd2756a-7129-4f35-9e8b-7f66dcb9d731",
   "metadata": {},
   "outputs": [],
   "source": [
    "show_pictures(x_test, y_test)"
   ]
  },
  {
   "cell_type": "code",
   "execution_count": null,
   "id": "e782e014-5f85-4cd4-9262-8ce1be3949ca",
   "metadata": {},
   "outputs": [],
   "source": [
    "create_folder(metrics_folder)\n",
    "create_folder(model_folder)"
   ]
  },
  {
   "cell_type": "code",
   "execution_count": null,
   "id": "89b2f1b7-6598-4dce-9802-bf881e25caa4",
   "metadata": {},
   "outputs": [],
   "source": [
    "x_train, y_train,x_test, y_test = process_data(x_train, y_train,x_test, y_test)"
   ]
  },
  {
   "cell_type": "code",
   "execution_count": null,
   "id": "c9440a9b-6a20-4c08-bcb6-e27ccdab93c6",
   "metadata": {},
   "outputs": [],
   "source": [
    "callbacks_list = callbacks()"
   ]
  },
  {
   "cell_type": "code",
   "execution_count": null,
   "id": "82fbed73-c690-458a-b95b-ae384102ba2b",
   "metadata": {},
   "outputs": [],
   "source": [
    "estimator = VariationalAutoEncoder()"
   ]
  },
  {
   "cell_type": "code",
   "execution_count": null,
   "id": "691a0956-aa14-49ad-bc2b-fd178af5973b",
   "metadata": {},
   "outputs": [],
   "source": [
    "estimator.custom_compile(learning_rate = learning_rate, rmse_multiplier = rmse_multiplier)"
   ]
  },
  {
   "cell_type": "code",
   "execution_count": null,
   "id": "97d58692-0fac-45e7-ab4f-7899a97b404c",
   "metadata": {},
   "outputs": [],
   "source": [
    "history = estimator.full_model.fit(x_train,x_train,validation_data = (x_test,x_test), epochs = epochs,batch_size = batch_size, callbacks = callbacks_list)"
   ]
  },
  {
   "cell_type": "code",
   "execution_count": null,
   "id": "3b6396c7-af07-461b-9c7a-50de903c037a",
   "metadata": {},
   "outputs": [],
   "source": [
    "fig, axs = plt.subplots(2,2)\n",
    "axs[0, 0].plot(history.history[\"loss\"])\n",
    "axs[0, 0].plot(history.history[\"val_loss\"])\n",
    "axs[0, 0].set_title(\"Total Loss\")\n",
    "\n",
    "axs[0, 1].plot(history.history[\"vae_r_loss\"])\n",
    "axs[0, 1].plot(history.history[\"val_vae_r_loss\"])\n",
    "axs[0, 1].set_title(\"RMSE Loss\")\n",
    "\n",
    "axs[1, 1].plot(history.history[\"vae_kl_loss\"])\n",
    "axs[1, 1].plot(history.history[\"val_vae_kl_loss\"])\n",
    "axs[1, 1].set_title(\"KL Divergence Loss\")\n",
    "\n",
    "axs[1, 0].plot(history.history[\"lr\"])\n",
    "axs[1, 0].set_title(\"Learning Rate\")\n",
    "fig.tight_layout()\n",
    "plt.savefig(metrics_folder + '/losses.png')"
   ]
  },
  {
   "cell_type": "code",
   "execution_count": null,
   "id": "0dfb0f50-c038-46d3-9bfc-255a4e7ee8a4",
   "metadata": {},
   "outputs": [],
   "source": [
    "show_reconstructed(x_test,estimator)"
   ]
  },
  {
   "cell_type": "code",
   "execution_count": null,
   "id": "f00a143b-041d-48b2-b80d-049155add805",
   "metadata": {},
   "outputs": [],
   "source": [
    "show_reconstructed(x_test,estimator)"
   ]
  },
  {
   "cell_type": "code",
   "execution_count": null,
   "id": "5948a7a0-d58d-40b2-b7f2-bc727fd227d0",
   "metadata": {},
   "outputs": [],
   "source": [
    "plot_latent_space(x_test,y_test,estimator)"
   ]
  },
  {
   "cell_type": "code",
   "execution_count": null,
   "id": "ea502bfe-e126-4e75-80ec-29361c95fce9",
   "metadata": {},
   "outputs": [],
   "source": []
  }
 ],
 "metadata": {
  "kernelspec": {
   "display_name": "Python 3 (ipykernel)",
   "language": "python",
   "name": "python3"
  },
  "language_info": {
   "codemirror_mode": {
    "name": "ipython",
    "version": 3
   },
   "file_extension": ".py",
   "mimetype": "text/x-python",
   "name": "python",
   "nbconvert_exporter": "python",
   "pygments_lexer": "ipython3",
   "version": "3.8.0"
  }
 },
 "nbformat": 4,
 "nbformat_minor": 5
}
